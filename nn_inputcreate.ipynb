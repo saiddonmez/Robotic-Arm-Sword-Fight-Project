{
 "cells": [
  {
   "cell_type": "code",
   "execution_count": 5,
   "metadata": {},
   "outputs": [],
   "source": [
    "import robotic as ry\n",
    "import time\n",
    "import numpy as np\n",
    "import os\n",
    "import time\n",
    "import matplotlib.pyplot as plt"
   ]
  },
  {
   "cell_type": "code",
   "execution_count": null,
   "metadata": {},
   "outputs": [],
   "source": [
    "def create_nn_inputs(savefilename,folderpath,past_len= 10,future_len= 8,mode = 'a'):\n",
    "    files = os.listdir(folderpath)\n",
    "    X = np.empty((0,28))\n",
    "    Y = np.empty((0,7))\n",
    "    for file in files:\n",
    "        trajectory = np.load(os.path.join(folderpath,file))\n",
    "        # if mode == 'a':\n",
    "        #     trajectory = trajectory[:,:,:7]\n",
    "        # else:\n",
    "        #     trajectory = trajectory[:,:,7:]\n",
    "\n",
    "        timesteps = trajectory.shape[0] - past_len - future_len\n",
    "        for step in range(timesteps):\n",
    "            train_input = trajectory[step+past_len,:,:]\n",
    "\n",
    "            train_input[0,:] = train_input[0,:]/np.pi\n",
    "            train_input[1,:] = train_input[1,:]/10\n",
    "\n",
    "            train_input = train_input.reshape(-1,28)\n",
    "            X = np.concatenate((X,train_input),axis=0)\n",
    "            #clip X that the min value is -10 and max is 10\n",
    "\n",
    "            if mode =='d':\n",
    "                label = trajectory[step+past_len+future_len,0,7:].flatten()\n",
    "                label = label - trajectory[step+past_len,0,7:]\n",
    "\n",
    "                Y = np.concatenate((Y,label[np.newaxis,...]),axis=0)\n",
    "                Y = Y/np.pi\n",
    "            else:\n",
    "                Y = np.concatenate((Y,trajectory[step+past_len+future_len,0,:][np.newaxis,...]),axis=0)\n",
    "                Y = Y/np.pi\n",
    "\n",
    "        print(X.shape,Y.shape)\n",
    "    np.save(savefilename+'_X.npy',X)\n",
    "    np.save(savefilename+'_Y.npy',Y)\n",
    "\n",
    "create_nn_inputs('defence_pathimititaion_trajectoryfollow',\"defence paths\",past_len= 10,future_len= 5,mode='d')\n",
    "# create_nn_inputs('attack_path_inputs',\"real_spline_attackPaths\",past_len= 10,future_len= 5,mode='a')"
   ]
  },
  {
   "cell_type": "code",
   "execution_count": null,
   "metadata": {},
   "outputs": [],
   "source": [
    "create_nn_inputs('defence_path_inputs',\"defence paths\",past_len= 10,future_len= 5,mode='d')"
   ]
  }
 ],
 "metadata": {
  "kernelspec": {
   "display_name": "Python 3",
   "language": "python",
   "name": "python3"
  },
  "language_info": {
   "codemirror_mode": {
    "name": "ipython",
    "version": 3
   },
   "file_extension": ".py",
   "mimetype": "text/x-python",
   "name": "python",
   "nbconvert_exporter": "python",
   "pygments_lexer": "ipython3",
   "version": "3.10.12"
  }
 },
 "nbformat": 4,
 "nbformat_minor": 2
}
