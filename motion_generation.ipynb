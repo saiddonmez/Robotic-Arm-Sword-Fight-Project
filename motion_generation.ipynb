{
 "cells": [
  {
   "cell_type": "markdown",
   "metadata": {},
   "source": [
    "**Create the enviroment, attack robot, defence robot and sword for path generation**"
   ]
  },
  {
   "cell_type": "code",
   "execution_count": 1,
   "metadata": {},
   "outputs": [
    {
     "name": "stderr",
     "output_type": "stream",
     "text": [
      "/home/said/robotics/lib/python3.9/site-packages/matplotlib/projections/__init__.py:63: UserWarning: Unable to import Axes3D. This may be due to multiple versions of Matplotlib being installed (e.g. as a system package and as a pip package). As a result, the 3D projection is not available.\n",
      "  warnings.warn(\"Unable to import Axes3D. This may be due to multiple versions of \"\n"
     ]
    }
   ],
   "source": [
    "import robotic as ry\n",
    "import time\n",
    "import numpy as np\n",
    "import os\n",
    "import time\n",
    "import matplotlib.pyplot as plt\n",
    "\n",
    "# C = ry.Config()\n",
    "\n",
    "# table = C.addFrame('table',parent='world') .setShape(ry.ST.ssBox,[4., 1., 0., .05]) .setPosition([0,0,0]).setColor([.2]).setContact(1)\n",
    "# attacker = C.addFile(ry.raiPath('panda/panda.g')).setPosition([0.,2.,.5]).setQuaternion([1,0,0,1])\n",
    "# defender = C.addFile(ry.raiPath('panda/panda.g'), 'r_').setPosition([1.5,2.,.5]).setQuaternion([1,0,0,1])\n",
    "\n",
    "# attacker_base = [0,2,0.5]\n",
    "# defender_base = [1.5,2,0.5]\n",
    "# attacker.setParent(table)\n",
    "# defender.setParent(table)\n",
    "\n",
    "# attacker.setPosition([-0.5,0.,.05])\n",
    "# defender.setQuaternion([0,0,0,1])\n",
    "# defender.setPosition([0.5,0.,.05])\n",
    "\n",
    "# joint_pos = C.getJointState()\n",
    "# qhome = joint_pos.copy()\n",
    "# qhome_attacker = qhome[:8]\n",
    "# qhome_defender = qhome[8:]\n",
    "# C.setJointState(joint_pos)\n",
    "\n",
    "# C.addFrame('box',parent='gripper').setShape(ry.ST.ssBox,[0.1, .03, 0.03, 0.01]) .setRelativePosition([0,0,0]) .setColor([.9]).setRelativeQuaternion([1,0,0,1]).setContact(1)\n",
    "# C.addFrame('box1',parent='box').setShape(ry.ST.ssBox,[0.4, .02, 0.02, 0]) .setRelativePosition([0.2,0,0]) .setColor([.9]).setContact(1)\n",
    "# C.addFrame('box2',parent='box').setShape(ry.ST.ssBox,[0.04, .08, 0.05, 0]) .setRelativePosition([0.05,0,0]) .setColor([.9]).setContact(1)\n",
    "# C.addFrame('box3',parent='box').setShape(ry.ST.ssBox,[0.04, .08, 0.05, 0]) .setRelativePosition([-0.05,0,0]) .setColor([.9]).setContact(1)\n",
    "# C.addFrame('box4',parent='box').setShape(ry.ST.ssBox,[0.02, .02, 0.02, 0]) .setRelativePosition([0.3,0,0]) .setColor([.9])\n",
    "# sword_tip = C.getFrame('box4')\n",
    "# robot_base = C.getFrame('robot_base')\n"
   ]
  },
  {
   "cell_type": "code",
   "execution_count": 2,
   "metadata": {},
   "outputs": [
    {
     "name": "stdout",
     "output_type": "stream",
     "text": [
      "(14,)\n",
      "[ 0. -1.  0. -2.  0.  2.  0.  0. -1.  0. -2.  0.  2.  0.]\n"
     ]
    }
   ],
   "source": [
    "C = ry.Config()\n",
    "C.addFile(\"/home/said/cs549/project/rai-robotModels/scenarios/pandasFight.g\")\n",
    "C.view()\n",
    "\n",
    "print(C.getJointState().shape)\n",
    "C.setJointState(np.array([ 0.  , -1.  ,  0.  , -2.  ,  0.  ,  2.  ,  0.  ,  0.  ,\n",
    "       -1.  ,  0.  , -2.  ,  0.  ,  2.  ,  0.]))\n",
    "\n",
    "\n",
    "joint_pos = C.getJointState()\n",
    "qhome = joint_pos.copy()\n",
    "qhome_attacker = qhome[:7]\n",
    "qhome_defender = qhome[7:]\n",
    "\n",
    "C.addFrame('box4',parent='sword_0').setShape(ry.ST.ssBox,[0.02, .02, 0.02, 0]).setRelativePosition([0.35,0,0]).setColor([0,0,0,0])\n",
    "sword_tip = C.getFrame('box4')\n",
    "\n",
    "q0 = C.getJointState()\n",
    "X0 = C.getFrameState()\n",
    "\n",
    "C.view()\n",
    "\n",
    "print(q0)"
   ]
  },
  {
   "cell_type": "code",
   "execution_count": 3,
   "metadata": {},
   "outputs": [
    {
     "data": {
      "text/plain": [
       "[]"
      ]
     },
     "execution_count": 3,
     "metadata": {},
     "output_type": "execute_result"
    }
   ],
   "source": [
    "C.getCollisions(0)"
   ]
  },
  {
   "cell_type": "markdown",
   "metadata": {},
   "source": [
    "**Define end effectors sword and shiled as variable**"
   ]
  },
  {
   "cell_type": "code",
   "execution_count": 4,
   "metadata": {},
   "outputs": [
    {
     "name": "stdout",
     "output_type": "stream",
     "text": [
      "defender end effector: [2.18103728e-01 3.59025877e-16 1.41037014e+00]\n",
      "attacker end effector: [-2.18103728e-01  1.25455202e-16  1.41037014e+00]\n",
      "sword tip: [-0.5   0.75  0.63]\n"
     ]
    }
   ],
   "source": [
    "defender_end_eff = C.frame('r_gripper')\n",
    "attacker_end_eff = C.frame('l_gripper')\n",
    "sword_tip = C.frame('box4')\n",
    "print(f'defender end effector: {defender_end_eff.getPosition()}')\n",
    "print(f'attacker end effector: {attacker_end_eff.getPosition()}')\n",
    "print(f'sword tip: {sword_tip.getPosition()}')"
   ]
  },
  {
   "cell_type": "markdown",
   "metadata": {},
   "source": [
    "**Define camera looking at defender for random attack patterns**"
   ]
  },
  {
   "cell_type": "code",
   "execution_count": 77,
   "metadata": {},
   "outputs": [
    {
     "name": "stdout",
     "output_type": "stream",
     "text": [
      "-- WARNING:kin.cpp:addFrame:193(-1) frame already exists! returning existing without modifications!\n",
      "-- WARNING:kin.cpp:addFrame:193(-1) frame already exists! returning existing without modifications!\n",
      "-- WARNING:kin.cpp:addFrame:193(-1) frame already exists! returning existing without modifications!\n"
     ]
    }
   ],
   "source": [
    "f1 = C.addFrame('camera1') .setShape(ry.ST.marker, [.1])\n",
    "f1.setPose('t(-0.2 0. 1.3) d(-90 1 0 0) d(90 0 1 0)') \n",
    "f1.setAttribute('focalLength', .895) # wide angle\n",
    "f1.setAttribute('width', 640)\n",
    "f1.setAttribute('height', 360)\n",
    "\n",
    "f2 = C.addFrame('camera2') .setShape(ry.ST.marker, [.1])\n",
    "f2.setPose('t(0. -0.4 1.3) d(90 1 0 0) d(120 0 1 0)') \n",
    "f2.setAttribute('focalLength', .895) # wide angle\n",
    "f2.setAttribute('width', 640)\n",
    "f2.setAttribute('height', 360)\n",
    "\n",
    "f3 = C.addFrame('camera3') .setShape(ry.ST.marker, [.1])\n",
    "f3.setPose('t(0. 0.4 1.3) d(90 1 0 0) d(60 0 1 0) ') \n",
    "f3.setAttribute('focalLength', .895) # wide angle\n",
    "f3.setAttribute('width', 640)\n",
    "f3.setAttribute('height', 360)\n",
    "\n",
    "cam1 = ry.CameraView(C)\n",
    "cam2 = ry.CameraView(C)\n",
    "cam3 = ry.CameraView(C)\n",
    "\n",
    "cam1.setCamera('camera1')\n",
    "cam2.setCamera('camera2')\n",
    "cam3.setCamera('camera3')\n",
    "\n",
    "#After setting random states to the defender robot run this function to find the surface points of the robot\n",
    "def find_hittable_points(cam1,cam2,cam3,C,defence_joint_states):\n",
    "    C.setJointState(defence_joint_states) \n",
    "\n",
    "    rgb1, depth1 = cam1.computeImageAndDepth(C)\n",
    "    pcl1 = ry.depthImage2PointCloud(depth1, cam1.getFxycxy())\n",
    "    rgb2, depth2 = cam2.computeImageAndDepth(C)\n",
    "    pcl2 = ry.depthImage2PointCloud(depth2, cam2.getFxycxy())\n",
    "    rgb3, depth3 = cam3.computeImageAndDepth(C)\n",
    "    pcl3 = ry.depthImage2PointCloud(depth3, cam3.getFxycxy())\n",
    "\n",
    "\n",
    "    inverse_rot1 = f1.getRotationMatrix().T\n",
    "    cam1_pos = f1.getPosition()\n",
    "    transformed_pcl1 = np.dot(pcl1.reshape(-1, 3), inverse_rot1) + cam1_pos\n",
    "    transformed_pcl1 = transformed_pcl1.reshape(pcl1.shape)\n",
    "\n",
    "    inverse_rot2 = f2.getRotationMatrix().T\n",
    "    cam2_pos = f2.getPosition()\n",
    "    transformed_pcl2 = np.dot(pcl2.reshape(-1, 3), inverse_rot2) + cam2_pos\n",
    "    transformed_pcl2 = transformed_pcl2.reshape(pcl2.shape)\n",
    "\n",
    "    inverse_rot3 = f3.getRotationMatrix().T\n",
    "    cam3_pos = f3.getPosition()\n",
    "    transformed_pcl3 = np.dot(pcl3.reshape(-1, 3), inverse_rot3) + cam3_pos\n",
    "    transformed_pcl3 = transformed_pcl3.reshape(pcl3.shape)\n",
    "\n",
    "    transformed_pcl = np.concat([transformed_pcl1, transformed_pcl2, transformed_pcl3])  \n",
    "\n",
    "    zmin  = 0.9\n",
    "    mask = (transformed_pcl[..., 2] >= zmin)\n",
    "\n",
    "    # Filtered array contains all the hitable points\n",
    "    filtered_array = transformed_pcl[mask]\n",
    "    filtered_array = filtered_array[~np.all(filtered_array == [0,0.4,0.6], axis=1)]\n",
    "    filtered_array = filtered_array[~np.all(filtered_array == [0,-0.4,0.6], axis=1)]\n",
    "    \n",
    "    filtered_array = filtered_array[~np.all(filtered_array == [-0.2 ,0., 0.6], axis=1)]\n",
    "\n",
    "    plt.imshow(rgb1)\n",
    "    plt.show()\n",
    "    plt.imshow(rgb2)\n",
    "    plt.show()\n",
    "    plt.imshow(rgb3)\n",
    "    plt.show()\n",
    "    # f = C.addFrame('pcl', 'world')\n",
    "    # f.setPointCloud(filtered_array, [255,0,0])\n",
    "    # C.view(False)\n",
    "    return filtered_array\n",
    "\n",
    "#filtered_array = find_hittable_points(cam1,cam2,cam3,C,qhome)\n",
    "# # Visualize the point cloud\n",
    "# f = C.addFrame('pcl', 'world')\n",
    "# f.setPointCloud(filtered_array, [255,0,0])\n",
    "# C.view(False)"
   ]
  },
  {
   "cell_type": "code",
   "execution_count": 78,
   "metadata": {},
   "outputs": [
    {
     "data": {
      "image/png": "[encoded data removed]",
      "text/plain": [
       "<Figure size 640x480 with 1 Axes>"
      ]
     },
     "metadata": {},
     "output_type": "display_data"
    },
    {
     "data": {
      "image/png": "[encoded data removed]",
      "text/plain": [
       "<Figure size 640x480 with 1 Axes>"
      ]
     },
     "metadata": {},
     "output_type": "display_data"
    },
    {
     "data": {
      "image/png": "[encoded data removed]",
      "text/plain": [
       "<Figure size 640x480 with 1 Axes>"
      ]
     },
     "metadata": {},
     "output_type": "display_data"
    },
    {
     "data": {
      "text/plain": [
       "array([[-0.2,  0. ,  1.3],\n",
       "       [-0.2,  0. ,  1.3],\n",
       "       [-0.2,  0. ,  1.3],\n",
       "       ...,\n",
       "       [ 0. ,  0.4,  1.3],\n",
       "       [ 0. ,  0.4,  1.3],\n",
       "       [ 0. ,  0.4,  1.3]])"
      ]
     },
     "execution_count": 78,
     "metadata": {},
     "output_type": "execute_result"
    }
   ],
   "source": [
    "find_hittable_points(cam1,cam2,cam3,C,qhome)"
   ]
  },
  {
   "cell_type": "code",
   "execution_count": 6,
   "metadata": {},
   "outputs": [],
   "source": [
    "# This function is implemented because pcl returns immense number of hitting points this function reduces it\n",
    "def select_hitting_points(surface_points,sword_tip,defender_end_eff):\n",
    "    \n",
    "    defender_end_eff_pos = defender_end_eff.getPosition()\n",
    "    sword_tip_pos = sword_tip.getPosition()\n",
    "    \n",
    "    distances_defender = np.linalg.norm(surface_points - defender_end_eff_pos,axis = 1)\n",
    "    distances_sword = np.linalg.norm(surface_points - sword_tip_pos,axis = 1)\n",
    "\n",
    "    distance_sum = 0.55*distances_defender - distances_sword*0.45 + 0.2*surface_points[:,2]\n",
    "\n",
    "    max_index = np.argmax(distance_sum)\n",
    "    surface_points = surface_points[max_index,:]\n",
    "    \n",
    "    if len(surface_points) > 0:\n",
    "        return surface_points\n",
    "    else:\n",
    "        return None"
   ]
  },
  {
   "cell_type": "code",
   "execution_count": 7,
   "metadata": {},
   "outputs": [],
   "source": [
    "#This function finds the attack path for the robot\n",
    "\n",
    "def create_attack_path(C,robot_positions,hitting_point):\n",
    "    \n",
    "    target = C.addFrame('target', 'world')\n",
    "    target.setShape(ry.ST.marker, [0.1])\n",
    "    target.setPosition(hitting_point)\n",
    "\n",
    "    C.setJointState(robot_positions)\n",
    "    \n",
    "    komo = ry.KOMO(C, 1, 10, 2, True)\n",
    "    komo.addControlObjective([], 2, 1e1)\n",
    "    #komo.addControlObjective([], 1, 1e1)\n",
    "\n",
    "    # komo.addObjective([0.,1.], ry.FS.jointState, [], ry.OT.eq, [1e1], [], order=1)\n",
    "    komo.addObjective([1.], ry.FS.positionDiff, ['box4', 'target'], ry.OT.eq, [1e2])\n",
    "    komo.addObjective([0.,0.95], ry.FS.accumulatedCollisions, [], ry.OT.eq,[1e1])\n",
    "\n",
    "    ret = ry.NLP_Solver() \\\n",
    "        .setProblem(komo.nlp()) \\\n",
    "        .setOptions( stopTolerance=1e-2) \\\n",
    "        .solve()\n",
    "\n",
    "    path = komo.getPath()\n",
    "    C.delFrame('target')\n",
    "    return path"
   ]
  },
  {
   "cell_type": "code",
   "execution_count": 66,
   "metadata": {},
   "outputs": [
    {
     "name": "stdout",
     "output_type": "stream",
     "text": [
      "-- WARNING:kin.cpp:getFrame:412(-1) cannot find frame named 'box4'\n"
     ]
    },
    {
     "ename": "AttributeError",
     "evalue": "'NoneType' object has no attribute 'setRelativePosition'",
     "output_type": "error",
     "traceback": [
      "\u001b[0;31m---------------------------------------------------------------------------\u001b[0m",
      "\u001b[0;31mAttributeError\u001b[0m                            Traceback (most recent call last)",
      "Cell \u001b[0;32mIn[66], line 10\u001b[0m\n\u001b[1;32m      7\u001b[0m defence_joint_states \u001b[38;5;241m=\u001b[39m np\u001b[38;5;241m.\u001b[39mconcatenate([qhome_attacker,random_joint_states[\u001b[38;5;241m7\u001b[39m:]])\u001b[38;5;241m.\u001b[39mflatten()\n\u001b[1;32m      9\u001b[0m sword_tip_offset \u001b[38;5;241m=\u001b[39m np\u001b[38;5;241m.\u001b[39mrandom\u001b[38;5;241m.\u001b[39mrand()\u001b[38;5;241m*\u001b[39m\u001b[38;5;241m0.1\u001b[39m \u001b[38;5;241m+\u001b[39m \u001b[38;5;241m0.3\u001b[39m\n\u001b[0;32m---> 10\u001b[0m \u001b[43mC\u001b[49m\u001b[38;5;241;43m.\u001b[39;49m\u001b[43mgetFrame\u001b[49m\u001b[43m(\u001b[49m\u001b[38;5;124;43m'\u001b[39;49m\u001b[38;5;124;43mbox4\u001b[39;49m\u001b[38;5;124;43m'\u001b[39;49m\u001b[43m)\u001b[49m\u001b[38;5;241;43m.\u001b[39;49m\u001b[43msetRelativePosition\u001b[49m([sword_tip_offset,\u001b[38;5;241m0\u001b[39m,\u001b[38;5;241m0\u001b[39m])\n\u001b[1;32m     12\u001b[0m attacker_base \u001b[38;5;241m=\u001b[39m sword_tip\u001b[38;5;241m.\u001b[39mgetPosition()\n\u001b[1;32m     13\u001b[0m defence_robot_surface_points \u001b[38;5;241m=\u001b[39m find_hittable_points(cam1,cam2,cam3,C,defence_joint_states)\n",
      "\u001b[0;31mAttributeError\u001b[0m: 'NoneType' object has no attribute 'setRelativePosition'"
     ]
    }
   ],
   "source": [
    "ctrl_stop = False\n",
    "k = 0\n",
    "j = 0\n",
    "while ctrl_stop == False:\n",
    "\n",
    "    random_joint_states = q0+np.random.uniform(-1,1,14)*0.2*np.pi\n",
    "    defence_joint_states = np.concatenate([qhome_attacker,random_joint_states[7:]]).flatten()\n",
    "\n",
    "    sword_tip_offset = np.random.rand()*0.1 + 0.3\n",
    "    C.getFrame('box4').setRelativePosition([sword_tip_offset,0,0])\n",
    "    \n",
    "    attacker_base = sword_tip.getPosition()\n",
    "    defence_robot_surface_points = find_hittable_points(cam1,cam2,cam3,C,defence_joint_states)\n",
    "    defence_robot_surface_points = select_hitting_points(defence_robot_surface_points,sword_tip,defender_end_eff)   #extract hitting points\n",
    "\n",
    "    C.setJointState(random_joint_states)    #move the attacker robot to random joint states\n",
    "    collusion_number = C.getCollisions(0)\n",
    "    if len(collusion_number) == 0:\n",
    "\n",
    "        if defence_robot_surface_points is not None:\n",
    "\n",
    "            k = 0\n",
    "            path = create_attack_path(C,random_joint_states,defence_robot_surface_points)\n",
    "\n",
    "            attacker_path = path[:,:7]\n",
    "            attacker_init = random_joint_states[:7].reshape(1,-1)\n",
    "            defender_init = random_joint_states[7:].reshape(1,-1)\n",
    "\n",
    "            init_added_attacker_path = np.concatenate([attacker_init,attacker_path],axis = 0)\n",
    "            init_added_defender_path = np.repeat(defender_init,init_added_attacker_path.shape[0],axis=0)\n",
    "\n",
    "            init_added_path = np.concatenate([init_added_attacker_path,init_added_defender_path],axis = 1)\n",
    "            np.save(f'./attackPaths/path_case{j}_{k}.npy',init_added_path)\n",
    "            k+=1\n",
    "                \n",
    "            if j %5 == 4:\n",
    "                print(f'{j}`th case is created')\n",
    "            j+=1\n",
    "\n",
    "    if j == 30:\n",
    "        ctrl_stop = True"
   ]
  },
  {
   "cell_type": "code",
   "execution_count": 8,
   "metadata": {},
   "outputs": [
    {
     "name": "stdout",
     "output_type": "stream",
     "text": [
      "(11, 14)\n",
      "0th state\n",
      "1th state\n",
      "2th state\n",
      "3th state\n",
      "4th state\n",
      "5th state\n",
      "6th state\n",
      "7th state\n",
      "8th state\n",
      "9th state\n",
      "10th state\n"
     ]
    }
   ],
   "source": [
    "path = np.load('attackPaths/path_case9_0.npy')\n",
    "print(path.shape)\n",
    "# bot = ry.BotOp(C, useRealRobot=False)\n",
    "# bot.moveTo(path[0])\n",
    "# time.sleep(5)\n",
    "i = 0\n",
    "for states in path:\n",
    "    C.setJointState(states)\n",
    "    print(f'{i}th state')\n",
    "    i+=1\n",
    "    C.view()\n",
    "    time.sleep(0.4)\n"
   ]
  },
  {
   "cell_type": "code",
   "execution_count": 36,
   "metadata": {},
   "outputs": [
    {
     "data": {
      "text/plain": [
       "110"
      ]
     },
     "execution_count": 36,
     "metadata": {},
     "output_type": "execute_result"
    }
   ],
   "source": [
    "path = np.load('attackPaths/path_case5_0.npy')\n",
    "C.setJointState(q0)\n",
    "C.view()"
   ]
  },
  {
   "cell_type": "code",
   "execution_count": 4,
   "metadata": {},
   "outputs": [],
   "source": [
    "import scipy\n",
    "def interpolate_path(path,N):\n",
    "    cubic_spline_interpolator = scipy.interpolate.CubicSpline(np.arange(path.shape[0]), path, axis = 0) \n",
    "    interp_path = cubic_spline_interpolator(np.linspace(0,path.shape[0]-1,N))\n",
    "\n",
    "    return interp_path"
   ]
  },
  {
   "cell_type": "markdown",
   "metadata": {},
   "source": [
    "# Take sword and sheld"
   ]
  },
  {
   "cell_type": "code",
   "execution_count": 5,
   "metadata": {},
   "outputs": [
    {
     "name": "stdout",
     "output_type": "stream",
     "text": [
      "====nlp==== method:AugmentedLagrangian bounded: yes\n",
      "==nlp== it:0 evals:0 mu:1 nu:1 muLB:0.1\n",
      "----newton---- initial point f(x):12133.5 alpha:1 beta:1\n",
      "--newton-- it:   1  |Delta|:        0.2  alpha:          1  evals:   2  f(y):     9427.2  ACCEPT\n",
      "--newton-- it:   2  |Delta|:        0.2  alpha:          1  evals:   3  f(y):    7039.78  ACCEPT\n",
      "--newton-- it:   3  |Delta|:        0.2  alpha:          1  evals:   4  f(y):    5080.29  ACCEPT\n",
      "--newton-- it:   4  |Delta|:        0.2  alpha:          1  evals:   5  f(y):    3548.65  ACCEPT\n",
      "--newton-- it:   5  |Delta|:        0.2  alpha:          1  evals:   6  f(y):    2467.87  ACCEPT\n",
      "--newton-- it:   6  |Delta|:        0.2  alpha:          1  evals:   7  f(y):    1637.22  ACCEPT\n",
      "--newton-- it:   7  |Delta|:        0.2  alpha:          1  evals:   8  f(y):    980.115  ACCEPT\n",
      "--newton-- it:   8  |Delta|:        0.2  alpha:          1  evals:   9  f(y):    482.727  ACCEPT\n",
      "--newton-- it:   9  |Delta|:        0.2  alpha:          1  evals:  10  f(y):    169.873  ACCEPT\n",
      "--newton-- it:  10  |Delta|:        0.2  alpha:          1  evals:  11  f(y):    38.8635  ACCEPT\n",
      "--newton-- it:  11  |Delta|:        0.2  alpha:          1  evals:  12  f(y):    20.6189  ACCEPT\n",
      "--newton-- it:  12  |Delta|:    0.13741  alpha:          1  evals:  13  f(y):    8.69644  ACCEPT\n",
      "--newton-- it:  13  |Delta|:  0.0991466  alpha:          1  evals:  14  f(y):    8.10654  ACCEPT\n",
      "--newton-- it:  14  |Delta|:  0.0784913  alpha:          1  evals:  15  f(y):    7.75915  ACCEPT\n",
      "--newton-- it:  15  |Delta|:  0.0656077  alpha:          1  evals:  16  f(y):    7.50778  ACCEPT\n",
      "--newton-- it:  16  |Delta|:  0.0563804  alpha:          1  evals:  17  f(y):    7.31687  ACCEPT\n",
      "--newton-- it:  17  |Delta|:  0.0490998  alpha:          1  evals:  18  f(y):    7.16883  ACCEPT\n",
      "--newton-- it:  18  |Delta|:  0.0429596  alpha:          1  evals:  19  f(y):    7.05272  ACCEPT\n",
      "--newton-- it:  19  |Delta|:  0.0376862  alpha:          1  evals:  20  f(y):    6.96094  ACCEPT\n",
      "--newton-- it:  20  |Delta|:  0.0330776  alpha:          1  evals:  21  f(y):    6.88788  ACCEPT\n",
      "--newton-- it:  21  |Delta|:  0.0290467  alpha:          1  evals:  22  f(y):    6.82927  ACCEPT\n",
      "--newton-- stopping: 'absMax(Delta)<options.stopTolerance'\n",
      "==nlp== it:   0  evals:  22  A(x):    6.82927  f:    6.08319  g:          0  h:    8.64424  |x-x'|:    1.88807 \tstop:DeltaConverge\n",
      "==nlp== it:   1  evals:  22  A(x):    11.3057  mu:5\n",
      "--newton-- it:  22  |Delta|:  0.0554424  alpha:          1  evals:  23  f(y):    11.0296  ACCEPT\n",
      "--newton-- it:  23  |Delta|:  0.0349614  alpha:          1  evals:  24  f(y):    10.5665  ACCEPT\n",
      "--newton-- it:  24  |Delta|:  0.0285891  alpha:          1  evals:  25  f(y):    10.5024  ACCEPT\n",
      "--newton-- it:  25  |Delta|:  0.0240843  alpha:          1  evals:  26  f(y):    10.4619  ACCEPT\n",
      "--newton-- it:  26  |Delta|:  0.0206944  alpha:          1  evals:  27  f(y):    10.4306  ACCEPT\n",
      "--newton-- it:  27  |Delta|:   0.017919  alpha:          1  evals:  28  f(y):     10.404  ACCEPT\n",
      "--newton-- it:  28  |Delta|:  0.0155767  alpha:          1  evals:  29  f(y):    10.3832  ACCEPT\n",
      "--newton-- it:  29  |Delta|:   0.013555  alpha:          1  evals:  30  f(y):    10.3647  ACCEPT\n",
      "--newton-- it:  30  |Delta|:  0.0118054  alpha:          1  evals:  31  f(y):      10.35  ACCEPT\n",
      "--newton-- it:  31  |Delta|:   0.010279  alpha:          1  evals:  32  f(y):    10.3364  ACCEPT\n",
      "--newton-- it:  32  |Delta|:  0.0089465  alpha:          1  evals:  33  f(y):    10.3256  ACCEPT\n",
      "--newton-- stopping: 'absMax(Delta)<options.stopTolerance'\n",
      "==nlp== it:   1  evals:  33  A(x):    10.3256  f:    6.07824  g:          0  h:     7.3796  |x-x'|:   0.214171 \tstop:DeltaConverge\n",
      "==nlp== it:   2  evals:  33  A(x):    28.3061  mu:25\n",
      "--newton-- it:  33  |Delta|:  0.0201683  alpha:          1  evals:  34  f(y):    28.2642  ACCEPT\n",
      "--newton-- it:  34  |Delta|: 0.00993494  alpha:          1  evals:  35  f(y):    28.1664  ACCEPT\n",
      "--newton-- stopping: 'absMax(Delta)<options.stopTolerance'\n",
      "==nlp== it:   2  evals:  35  A(x):    28.1664  f:    6.12575  g:          0  h:    7.13247  |x-x'|:  0.0234187 \tstop:DeltaConverge\n",
      "==nlp== it:   3  evals:  35  A(x):    117.263  mu:125\n",
      "--newton-- it:  35  |Delta|: 0.00836172  alpha:          1  evals:  36  f(y):    117.238  ACCEPT\n",
      "--newton-- stopping: 'absMax(Delta)<options.stopTolerance'\n",
      "==nlp== it:   3  evals:  36  A(x):    117.238  f:    6.14883  g:          0  h:    7.12694  |x-x'|: 0.00836172 \tstop:DeltaConverge\n",
      "==nlp== StoppingCriterion Delta<0.01\n",
      "----newton---- final f(x):117.238\n"
     ]
    }
   ],
   "source": [
    "komo = ry.KOMO(C, 10, 10, 2, True)\n",
    "komo.addControlObjective([], 0, 1e-1) \n",
    "komo.addControlObjective([], 2, 1e0)\n",
    "komo.addObjective([], ry.FS.accumulatedCollisions, [], ry.OT.eq,[1e1])\n",
    "komo.addObjective([5,10], ry.FS.positionDiff, ['r_gripper', \"shi-h1\"], ry.OT.eq, [1e1])\n",
    "komo.addObjective([5.,10.], ry.FS.scalarProductZZ, ['r_gripper', 'shi-h1'], ry.OT.eq, [1e1], [])\n",
    "komo.addObjective([5.,10.], ry.FS.scalarProductXZ, ['shi-h1','r_gripper'], ry.OT.eq, [1e1], [])\n",
    "komo.addObjective([5.,10.], ry.FS.scalarProductXZ, ['r_gripper','shi-h1'], ry.OT.eq, [1e1], [])\n",
    "\n",
    "# komo.addObjective([3,5], ry.FS.position,['l_gripper'], ry.OT.eq, [1e1], grasp_pos + np.array([0, 0, 0.5]) )\n",
    "\n",
    "# komo.addObjective([5,10], ry.FS.position,['l_gripper'], ry.OT.eq, [1e1], grasp_pos )\n",
    "# komo.addObjective([5,10], ry.FS.vectorX, ['l_gripper'], ry.OT.eq, [1e1],normal)\n",
    "\n",
    "ret = ry.NLP_Solver() \\\n",
    ".setProblem(komo.nlp()) \\\n",
    ".setOptions( stopTolerance=1e-2, verbose=4 ) \\\n",
    ".solve()\n",
    "\n",
    "take_shield = komo.getPath()"
   ]
  },
  {
   "cell_type": "code",
   "execution_count": 12,
   "metadata": {},
   "outputs": [
    {
     "data": {
      "text/plain": [
       "0"
      ]
     },
     "execution_count": 12,
     "metadata": {},
     "output_type": "execute_result"
    }
   ],
   "source": [
    "C.setJointState(take_shield[-1])\n",
    "C.view()"
   ]
  },
  {
   "cell_type": "code",
   "execution_count": 6,
   "metadata": {},
   "outputs": [
    {
     "name": "stdout",
     "output_type": "stream",
     "text": [
      "====nlp==== method:AugmentedLagrangian bounded: yes\n",
      "==nlp== it:0 evals:0 mu:1 nu:1 muLB:0.1\n",
      "----newton---- initial point f(x):11392 alpha:1 beta:1\n",
      "--newton-- it:   1  |Delta|:        0.2  alpha:          1  evals:   2  f(y):    8811.41  ACCEPT\n",
      "--newton-- it:   2  |Delta|:        0.2  alpha:          1  evals:   3  f(y):    6700.83  ACCEPT\n",
      "--newton-- it:   3  |Delta|:        0.2  alpha:          1  evals:   4  f(y):    4841.77  ACCEPT\n",
      "--newton-- it:   4  |Delta|:        0.2  alpha:          1  evals:   5  f(y):    3200.89  ACCEPT\n",
      "--newton-- it:   5  |Delta|:        0.2  alpha:          1  evals:   6  f(y):    2093.78  ACCEPT\n",
      "--newton-- it:   6  |Delta|:        0.2  alpha:          1  evals:   7  f(y):    1364.68  ACCEPT\n",
      "--newton-- it:   7  |Delta|:        0.2  alpha:          1  evals:   8  f(y):    851.123  ACCEPT\n",
      "--newton-- it:   8  |Delta|:        0.2  alpha:          1  evals:   9  f(y):    459.243  ACCEPT\n",
      "--newton-- it:   9  |Delta|:        0.2  alpha:          1  evals:  10  f(y):    212.427  ACCEPT\n",
      "--newton-- it:  10  |Delta|:        0.2  alpha:          1  evals:  11  f(y):    83.2659  ACCEPT\n",
      "--newton-- it:  11  |Delta|:        0.2  alpha:          1  evals:  12  f(y):    37.4745  ACCEPT\n",
      "--newton-- it:  12  |Delta|:        0.2  alpha:          1  evals:  13  f(y):    15.0349  ACCEPT\n",
      "--newton-- it:  13  |Delta|:    0.16686  alpha:          1  evals:  14  f(y):    7.74912  ACCEPT\n",
      "--newton-- it:  14  |Delta|:   0.115261  alpha:          1  evals:  15  f(y):    6.71301  ACCEPT\n",
      "--newton-- it:  15  |Delta|:  0.0886818  alpha:          1  evals:  16  f(y):    6.35452  ACCEPT\n",
      "--newton-- it:  16  |Delta|:  0.0721278  alpha:          1  evals:  17  f(y):    6.12903  ACCEPT\n",
      "--newton-- it:  17  |Delta|:  0.0611066  alpha:          1  evals:  18  f(y):    5.96649  ACCEPT\n",
      "--newton-- it:  18  |Delta|:  0.0530723  alpha:          1  evals:  19  f(y):     5.8422  ACCEPT\n",
      "--newton-- it:  19  |Delta|:   0.046698  alpha:          1  evals:  20  f(y):    5.74424  ACCEPT\n",
      "--newton-- it:  20  |Delta|:  0.0412939  alpha:          1  evals:  21  f(y):     5.6657  ACCEPT\n",
      "--newton-- it:  21  |Delta|:  0.0366386  alpha:          1  evals:  22  f(y):    5.60207  ACCEPT\n",
      "--newton-- it:  22  |Delta|:  0.0325042  alpha:          1  evals:  23  f(y):    5.55011  ACCEPT\n",
      "--newton-- it:  23  |Delta|:  0.0288379  alpha:          1  evals:  24  f(y):    5.50737  ACCEPT\n",
      "--newton-- stopping: 'absMax(Delta)<options.stopTolerance'\n",
      "==nlp== it:   0  evals:  24  A(x):    5.50737  f:    5.31823  g:          0  h:    2.43362  |x-x'|:    2.03662 \tstop:DeltaConverge\n",
      "==nlp== it:   1  evals:  24  A(x):    6.64222  mu:5\n",
      "--newton-- it:  24  |Delta|:  0.0720077  alpha:          1  evals:  25  f(y):    5.84451  ACCEPT\n",
      "--newton-- it:  25  |Delta|:  0.0404348  alpha:          1  evals:  26  f(y):    5.74843  ACCEPT\n",
      "--newton-- it:  26  |Delta|:  0.0329606  alpha:          1  evals:  27  f(y):    5.69438  ACCEPT\n",
      "--newton-- it:  27  |Delta|:  0.0280476  alpha:          1  evals:  28  f(y):    5.65341  ACCEPT\n",
      "--newton-- it:  28  |Delta|:  0.0242615  alpha:          1  evals:  29  f(y):    5.62099  ACCEPT\n",
      "--newton-- it:  29  |Delta|:  0.0209871  alpha:          1  evals:  30  f(y):    5.59503  ACCEPT\n",
      "--newton-- it:  30  |Delta|:   0.018361  alpha:          1  evals:  31  f(y):    5.57356  ACCEPT\n",
      "--newton-- it:  31  |Delta|:  0.0161522  alpha:          1  evals:  32  f(y):    5.55574  ACCEPT\n",
      "--newton-- it:  32  |Delta|:  0.0141779  alpha:          1  evals:  33  f(y):    5.54076  ACCEPT\n",
      "--newton-- it:  33  |Delta|:  0.0124436  alpha:          1  evals:  34  f(y):    5.52801  ACCEPT\n",
      "--newton-- it:  34  |Delta|:    0.01092  alpha:          1  evals:  35  f(y):    5.51705  ACCEPT\n",
      "--newton-- it:  35  |Delta|: 0.00958006  alpha:          1  evals:  36  f(y):    5.50751  ACCEPT\n",
      "--newton-- stopping: 'absMax(Delta)<options.stopTolerance'\n",
      "==nlp== it:   1  evals:  36  A(x):    5.50751  f:    5.42574  g:          0  h:   0.477292  |x-x'|:   0.253062 \tstop:DeltaConverge\n",
      "==nlp== it:   2  evals:  36  A(x):    5.71282  mu:25\n",
      "--newton-- it:  36  |Delta|:  0.0220933  alpha:          1  evals:  37  f(y):     5.5824  ACCEPT\n",
      "--newton-- it:  37  |Delta|:  0.0127036  alpha:          1  evals:  38  f(y):    5.57682  ACCEPT\n",
      "--newton-- it:  38  |Delta|:  0.0104725  alpha:          1  evals:  39  f(y):    5.55786  ACCEPT\n",
      "--newton-- it:  39  |Delta|:  0.0089167  alpha:          1  evals:  40  f(y):    5.54945  ACCEPT\n",
      "--newton-- stopping: 'absMax(Delta)<options.stopTolerance'\n",
      "==nlp== it:   2  evals:  40  A(x):    5.54945  f:    5.49737  g:          0  h:   0.132612  |x-x'|:  0.0455911 \tstop:DeltaConverge\n",
      "==nlp== it:   3  evals:  40  A(x):    5.67156  mu:125\n",
      "--newton-- it:  40  |Delta|:  0.0153389  alpha:          1  evals:  41  f(y):    5.58979  ACCEPT\n",
      "--newton-- it:  41  |Delta|:  0.0098123  alpha:          1  evals:  42  f(y):    5.66799  reject (lineSearch:0)\n",
      "                    (line search)        alpha:        0.5  evals:  43  f(y):    5.60081  reject (lineSearch:1)\n",
      "                    (line search)        alpha:       0.25  evals:  44  f(y):    5.58872  ACCEPT\n",
      "--newton-- stopping: 'absMax(Delta)<options.stopTolerance'\n",
      "==nlp== it:   3  evals:  44  A(x):    5.58872  f:    5.55381  g:          0  h:  0.0438836  |x-x'|:  0.0168658 \tstop:DeltaConverge\n",
      "==nlp== it:   4  evals:  44  A(x):    5.67942  mu:625\n",
      "--newton-- it:  42  |Delta|:  0.0138505  alpha:      0.375  evals:  45  f(y):    5.63542  ACCEPT\n",
      "--newton-- it:  43  |Delta|:  0.0120754  alpha:     0.5625  evals:  46  f(y):      5.609  ACCEPT\n",
      "--newton-- it:  44  |Delta|:  0.0105138  alpha:    0.84375  evals:  47  f(y):    5.59719  ACCEPT\n",
      "--newton-- it:  45  |Delta|: 0.00860983  alpha:          1  evals:  48  f(y):    6.05196  reject (lineSearch:0)\n",
      "                    (line search)        alpha:        0.5  evals:  49  f(y):    5.70765  reject (lineSearch:1)\n",
      "                    (line search)        alpha:       0.25  evals:  50  f(y):    5.62263  reject (lineSearch:2)\n",
      "                    (line search)        alpha:      0.125  evals:  51  f(y):    5.60227  reject (lineSearch:3)\n",
      "                    (line search)        alpha:     0.0625  evals:  52  f(y):    5.59766  reject (lineSearch:4)\n",
      "                    (line search)        alpha:    0.03125  evals:  53  f(y):    5.59687  ACCEPT\n",
      "--newton-- stopping: 'absMax(Delta)<options.stopTolerance'\n",
      "==nlp== it:   4  evals:  53  A(x):    5.59687  f:    5.57915  g:          0  h:  0.0112599  |x-x'|:  0.0206974 \tstop:DeltaConverge\n",
      "==nlp== it:   5  evals:  53  A(x):    5.63534  mu:3125\n",
      "--newton-- it:  46  |Delta|: 0.00949308  alpha:   0.046875  evals:  54  f(y):    5.63821  reject (lineSearch:0)\n",
      "                    (line search)        alpha:  0.0234375  evals:  55  f(y):    5.63533  reject (lineSearch:1)\n",
      "                    (line search)        alpha:  0.0117188  evals:  56  f(y):    5.63495  ACCEPT\n",
      "--newton-- stopping: 'absMax(Delta)<options.stopTolerance'\n",
      "==nlp== it:   5  evals:  56  A(x):    5.63495  f:    5.57927  g:          0  h:  0.0113564  |x-x'|:0.000111247 \tstop:DeltaConverge\n",
      "==nlp== StoppingCriterion Delta<0.01\n",
      "----newton---- final f(x):5.63495\n"
     ]
    }
   ],
   "source": [
    "komo = ry.KOMO(C, 10, 10, 2, True)\n",
    "komo.addControlObjective([], 0, 1e-1) \n",
    "komo.addControlObjective([], 2, 1e0)\n",
    "komo.addObjective([], ry.FS.accumulatedCollisions, [], ry.OT.eq,[1e1])\n",
    "komo.addObjective([5,10], ry.FS.positionDiff, ['l_gripper', \"sword_0\"], ry.OT.eq, [1e1])\n",
    "komo.addObjective([5.,10.], ry.FS.scalarProductYZ, ['sword_0','l_gripper'], ry.OT.eq, [1e1], [])\n",
    "komo.addObjective([5.,10.], ry.FS.scalarProductXZ, ['sword_0','l_gripper'], ry.OT.eq, [1e1], [])\n",
    "komo.addObjective([5.,10.], ry.FS.scalarProductXX, ['l_gripper','sword_0'], ry.OT.eq, [1e1], [])\n",
    "\n",
    "# komo.addObjective([3,5], ry.FS.position,['l_gripper'], ry.OT.eq, [1e1], grasp_pos + np.array([0, 0, 0.5]) )\n",
    "\n",
    "# komo.addObjective([5,10], ry.FS.position,['l_gripper'], ry.OT.eq, [1e1], grasp_pos )\n",
    "# komo.addObjective([5,10], ry.FS.vectorX, ['l_gripper'], ry.OT.eq, [1e1],normal)\n",
    "\n",
    "ret = ry.NLP_Solver() \\\n",
    ".setProblem(komo.nlp()) \\\n",
    ".setOptions( stopTolerance=1e-2, verbose=4 ) \\\n",
    ".solve()\n",
    "\n",
    "take_sword= komo.getPath()"
   ]
  },
  {
   "cell_type": "code",
   "execution_count": 14,
   "metadata": {},
   "outputs": [
    {
     "data": {
      "text/plain": [
       "0"
      ]
     },
     "execution_count": 14,
     "metadata": {},
     "output_type": "execute_result"
    }
   ],
   "source": [
    "C.setJointState(take_sword[-1])\n",
    "C.view()"
   ]
  },
  {
   "cell_type": "code",
   "execution_count": 7,
   "metadata": {},
   "outputs": [],
   "source": [
    "armed=np.concatenate([take_sword[-1,0:7], take_shield[-1,7:]])"
   ]
  },
  {
   "cell_type": "code",
   "execution_count": 16,
   "metadata": {},
   "outputs": [
    {
     "data": {
      "text/plain": [
       "0"
      ]
     },
     "execution_count": 16,
     "metadata": {},
     "output_type": "execute_result"
    }
   ],
   "source": [
    "C.setJointState(armed)\n",
    "C.view()"
   ]
  },
  {
   "cell_type": "markdown",
   "metadata": {},
   "source": [
    "# Start Simulation from path[0,:]"
   ]
  },
  {
   "cell_type": "code",
   "execution_count": 47,
   "metadata": {},
   "outputs": [],
   "source": [
    "del C"
   ]
  },
  {
   "cell_type": "code",
   "execution_count": 18,
   "metadata": {},
   "outputs": [
    {
     "data": {
      "text/plain": [
       "0"
      ]
     },
     "execution_count": 18,
     "metadata": {},
     "output_type": "execute_result"
    }
   ],
   "source": [
    "C = ry.Config()\n",
    "C.addFile(\"/home/said/cs549/project/rai-robotModels/scenarios/pandasFight.g\")\n",
    "C.view()"
   ]
  },
  {
   "cell_type": "code",
   "execution_count": 19,
   "metadata": {},
   "outputs": [
    {
     "data": {
      "text/plain": [
       "0"
      ]
     },
     "execution_count": 19,
     "metadata": {},
     "output_type": "execute_result"
    }
   ],
   "source": [
    "C.setJointState(qhome)\n",
    "C.view()"
   ]
  },
  {
   "cell_type": "code",
   "execution_count": 8,
   "metadata": {},
   "outputs": [
    {
     "data": {
      "text/plain": [
       "0"
      ]
     },
     "execution_count": 8,
     "metadata": {},
     "output_type": "execute_result"
    }
   ],
   "source": [
    "# C.setJointState(path[0,:])\n",
    "S = ry.Simulation(C, ry.SimulationEngine.physx, verbose=0)\n",
    "C.view()"
   ]
  },
  {
   "cell_type": "markdown",
   "metadata": {},
   "source": [
    "# Simulation Functions"
   ]
  },
  {
   "cell_type": "code",
   "execution_count": 59,
   "metadata": {},
   "outputs": [],
   "source": [
    "C.view()\n",
    "def simulationCloseGrippers(S):\n",
    "    S.closeGripper('l_gripper',width=0.0001, speed=0.5)\n",
    "    while (not S.getGripperIsGrasping('l_gripper')) and (S.getGripperWidth('l_gripper') > 0.001):\n",
    "        time.sleep(0.01)\n",
    "        S.step([],0.01,ry.ControlMode.none)\n",
    "        C.view()\n",
    "    \n",
    "    S.closeGripper('r_gripper',width=0.0001, speed=0.5)\n",
    "    while (not S.getGripperIsGrasping('r_gripper')) and (S.getGripperWidth('r_gripper') > 0.001):\n",
    "        time.sleep(0.01)\n",
    "        S.step([],0.01,ry.ControlMode.none)\n",
    "        C.view()\n",
    "\n",
    "\n",
    "def simulationOpenGrippers(S):\n",
    "    S.openGripper('l_gripper',width=0.05,speed=0.5)\n",
    "    while S.getGripperWidth('l_gripper') < 0.05-0.01:\n",
    "        time.sleep(0.01)\n",
    "        S.step([],0.01,ry.ControlMode.none)\n",
    "        C.view()\n",
    "    S.openGripper('r_gripper',width=0.05,speed=0.5)\n",
    "    while S.getGripperWidth('r_gripper') < 0.05-0.01:\n",
    "        time.sleep(0.01)\n",
    "        S.step([],0.01,ry.ControlMode.none)\n",
    "        C.view()\n",
    "\n",
    "def simulationGoTo(S,q):\n",
    "    checkColTime = 0.1\n",
    "    timer = 0\n",
    "    while np.linalg.norm(S.get_q()- q)>0.01:\n",
    "        time.sleep(0.01)\n",
    "        S.step(q,0.01,ry.ControlMode.position)\n",
    "        timer+=0.01\n",
    "        C.view()\n",
    "        if timer > 10:\n",
    "            print(\"Target cannot be reached.\")\n",
    "            break\n",
    "        if timer > checkColTime:\n",
    "            if findCollision(C,'sword_3'):\n",
    "                break\n",
    "            else:\n",
    "                checkColTime += 0.1\n",
    "\n",
    "def simulationGoHome(S):\n",
    "    checkColTime = 0.1\n",
    "    timer = 0\n",
    "    while np.linalg.norm(S.get_q()- q0)>0.01:\n",
    "        time.sleep(0.01)\n",
    "        S.step(q0,0.01,ry.ControlMode.position)\n",
    "        C.view()\n",
    "        timer += 0.01\n",
    "        # if timer > checkColTime:\n",
    "        #     if findCollision(C,'sword_3'):\n",
    "        #         break\n",
    "        #     else:\n",
    "        #         checkColTime += 0.1\n",
    "            \n",
    "def simulationFollowPath(S,path):\n",
    "    for i in range(len(path)):\n",
    "        while np.linalg.norm(S.get_q()- path[i])>0.3:\n",
    "            time.sleep(0.01)\n",
    "            print(i)\n",
    "            print(np.linalg.norm(S.get_q()- path[i]))\n",
    "            S.step(path[i],0.01,ry.ControlMode.position)\n",
    "            C.view()\n",
    "\n",
    "    simulationGoTo(S,path[-1])\n",
    "\n",
    "def simulationWait(S,t):\n",
    "    for k in range(int(100*t)):\n",
    "        time.sleep(0.01)\n",
    "        S.step([],0.01,ry.ControlMode.none)\n",
    "        C.view()\n",
    "\n",
    "def simulationTorqueCtrl(S,t,torque):\n",
    "    for k in range(int(100*t)):\n",
    "        time.sleep(0.01)\n",
    "        S.step(torque,0.01,ry.ControlMode.acceleration)\n",
    "        C.view()\n",
    "\n",
    "def simulationVelocityCtrl(S,t,vel):\n",
    "    for k in range(int(100*t)):\n",
    "        time.sleep(0.01)\n",
    "        S.step(vel,0.01,ry.ControlMode.velocity)\n",
    "        C.view()\n",
    "\n",
    "def followInterpolatedPath(S,path):\n",
    "    checkColTime = 0.05\n",
    "    timer = 0\n",
    "    for i in range(len(path)):\n",
    "        time.sleep(0.01)\n",
    "        print(i)\n",
    "        print(np.linalg.norm(S.get_q()- path[i]))\n",
    "        S.step(path[i],0.01,ry.ControlMode.position)\n",
    "        C.view()\n",
    "        timer += 0.01\n",
    "        if timer > checkColTime:\n",
    "            if findCollision(C,'sword_3'):\n",
    "                break\n",
    "            else:\n",
    "                checkColTime += 0.05\n",
    "    simulationGoTo(S,path[-1])\n",
    "\n",
    "def findCollision(C,object1):\n",
    "    collisions = [col for col in C.getCollisions(0) if object1 in col]\n",
    "    if len(collisions) > 0:\n",
    "        print('sword collided with something')\n",
    "        return True\n",
    "    else:\n",
    "        return False"
   ]
  },
  {
   "cell_type": "code",
   "execution_count": 10,
   "metadata": {},
   "outputs": [],
   "source": [
    "simulationGoTo(S,armed)"
   ]
  },
  {
   "cell_type": "code",
   "execution_count": 11,
   "metadata": {},
   "outputs": [
    {
     "name": "stdout",
     "output_type": "stream",
     "text": [
      "-- kin_physx.cpp:addJoint:298(0) ADDING JOINT l_panda_joint7-sword_0 of type rigid with rel [0, 0, 0]\n",
      "-- kin_physx.cpp:addJoint:298(0) ADDING JOINT r_panda_joint7-shi of type rigid with rel [0, 0, 0]\n"
     ]
    }
   ],
   "source": [
    "simulationCloseGrippers(S)"
   ]
  },
  {
   "cell_type": "code",
   "execution_count": 56,
   "metadata": {},
   "outputs": [],
   "source": [
    "simulationGoHome(S)"
   ]
  },
  {
   "cell_type": "code",
   "execution_count": 32,
   "metadata": {},
   "outputs": [],
   "source": [
    "torques = np.zeros(14)\n",
    "torques[13]=100000\n",
    "simulationTorqueCtrl(S,1,torques)"
   ]
  },
  {
   "cell_type": "code",
   "execution_count": 20,
   "metadata": {},
   "outputs": [],
   "source": [
    "S.setSplineRef(path,np.linspace(0,1,len(path)))"
   ]
  },
  {
   "cell_type": "code",
   "execution_count": 24,
   "metadata": {},
   "outputs": [],
   "source": [
    "simulationWait(S,4)"
   ]
  },
  {
   "cell_type": "code",
   "execution_count": 62,
   "metadata": {},
   "outputs": [],
   "source": [
    "simulationGoTo(S,path[0])\n",
    "\n",
    "#simulationGoTo(S,path[-1])"
   ]
  },
  {
   "cell_type": "code",
   "execution_count": 52,
   "metadata": {},
   "outputs": [
    {
     "name": "stdout",
     "output_type": "stream",
     "text": [
      "3\n",
      "0.40408294859896216\n",
      "3\n",
      "0.382618412780434\n",
      "3\n",
      "0.35093037325291554\n",
      "3\n",
      "0.3195801769612112\n",
      "4\n",
      "0.5404287070781694\n",
      "4\n",
      "0.49961806683491305\n",
      "4\n",
      "0.4549881133250151\n",
      "4\n",
      "0.41274195406320563\n",
      "4\n",
      "0.3736569018864544\n",
      "4\n",
      "0.33774717309693986\n",
      "4\n",
      "0.3048955187395794\n",
      "5\n",
      "0.5698125691265973\n",
      "5\n",
      "0.5264763870126227\n",
      "5\n",
      "0.478979777392976\n",
      "5\n",
      "0.43426744296351444\n",
      "5\n",
      "0.3930181989889832\n",
      "5\n",
      "0.35517127207558136\n",
      "5\n",
      "0.32056704553555576\n",
      "6\n",
      "0.6212897392771233\n",
      "6\n",
      "0.5740304728976791\n",
      "6\n",
      "0.5224989611946823\n",
      "6\n",
      "0.4741207187362274\n",
      "6\n",
      "0.42944332575499217\n",
      "6\n",
      "0.3883646465611364\n",
      "6\n",
      "0.3507175285872209\n",
      "6\n",
      "0.31632540881097526\n",
      "7\n",
      "0.6473434559615701\n",
      "7\n",
      "0.5980572471393416\n",
      "7\n",
      "0.5447551628993211\n",
      "7\n",
      "0.4948117605407067\n",
      "7\n",
      "0.44860411775861714\n",
      "7\n",
      "0.4060125996814326\n",
      "7\n",
      "0.3668818742481587\n",
      "7\n",
      "0.33105361970685054\n",
      "8\n",
      "0.6834891039328722\n",
      "8\n",
      "0.6312088861837165\n",
      "8\n",
      "0.5755544722130843\n",
      "8\n",
      "0.5234460776946858\n",
      "8\n",
      "0.4751001610749916\n",
      "8\n",
      "0.43039955437540606\n",
      "8\n",
      "0.3892073214980121\n",
      "8\n",
      "0.35138787238546854\n",
      "8\n",
      "0.31679586364750884\n",
      "9\n",
      "0.6857446700853004\n",
      "9\n",
      "0.6331933412102018\n",
      "9\n",
      "0.57814598855887\n",
      "9\n",
      "0.5265753293072624\n",
      "9\n",
      "0.47857025726613106\n",
      "9\n",
      "0.4340371874785068\n",
      "9\n",
      "0.3928145916096997\n",
      "9\n",
      "0.356046376948977\n",
      "9\n",
      "0.3280018211349571\n",
      "9\n",
      "0.3042487390286624\n",
      "10\n",
      "0.6855466057176355\n",
      "10\n",
      "0.6379471787006693\n",
      "10\n",
      "0.5883602384460505\n",
      "10\n",
      "0.5438648938156532\n",
      "10\n",
      "0.5056709232563024\n",
      "10\n",
      "0.4699257462225298\n",
      "10\n",
      "0.43615409391522\n",
      "10\n",
      "0.40408172933355696\n",
      "10\n",
      "0.37330042415753406\n",
      "10\n",
      "0.3492726517349242\n",
      "10\n",
      "0.329782593478179\n",
      "10\n",
      "0.3129810014157294\n"
     ]
    },
    {
     "ename": "KeyboardInterrupt",
     "evalue": "",
     "output_type": "error",
     "traceback": [
      "\u001b[0;31m---------------------------------------------------------------------------\u001b[0m",
      "\u001b[0;31mKeyboardInterrupt\u001b[0m                         Traceback (most recent call last)",
      "Cell \u001b[0;32mIn[52], line 1\u001b[0m\n\u001b[0;32m----> 1\u001b[0m \u001b[43msimulationFollowPath\u001b[49m\u001b[43m(\u001b[49m\u001b[43mS\u001b[49m\u001b[43m,\u001b[49m\u001b[43mpath\u001b[49m\u001b[43m)\u001b[49m\n",
      "Cell \u001b[0;32mIn[46], line 68\u001b[0m, in \u001b[0;36msimulationFollowPath\u001b[0;34m(S, path)\u001b[0m\n\u001b[1;32m     65\u001b[0m         S\u001b[38;5;241m.\u001b[39mstep(path[i],\u001b[38;5;241m0.01\u001b[39m,ry\u001b[38;5;241m.\u001b[39mControlMode\u001b[38;5;241m.\u001b[39mposition)\n\u001b[1;32m     66\u001b[0m         C\u001b[38;5;241m.\u001b[39mview()\n\u001b[0;32m---> 68\u001b[0m \u001b[43msimulationGoTo\u001b[49m\u001b[43m(\u001b[49m\u001b[43mS\u001b[49m\u001b[43m,\u001b[49m\u001b[43mpath\u001b[49m\u001b[43m[\u001b[49m\u001b[38;5;241;43m-\u001b[39;49m\u001b[38;5;241;43m1\u001b[39;49m\u001b[43m]\u001b[49m\u001b[43m)\u001b[49m\n",
      "Cell \u001b[0;32mIn[46], line 33\u001b[0m, in \u001b[0;36msimulationGoTo\u001b[0;34m(S, q)\u001b[0m\n\u001b[1;32m     31\u001b[0m \u001b[38;5;28;01mwhile\u001b[39;00m np\u001b[38;5;241m.\u001b[39mlinalg\u001b[38;5;241m.\u001b[39mnorm(S\u001b[38;5;241m.\u001b[39mget_q()\u001b[38;5;241m-\u001b[39m q)\u001b[38;5;241m>\u001b[39m\u001b[38;5;241m0.01\u001b[39m:\n\u001b[1;32m     32\u001b[0m     time\u001b[38;5;241m.\u001b[39msleep(\u001b[38;5;241m0.01\u001b[39m)\n\u001b[0;32m---> 33\u001b[0m     \u001b[43mS\u001b[49m\u001b[38;5;241;43m.\u001b[39;49m\u001b[43mstep\u001b[49m\u001b[43m(\u001b[49m\u001b[43mq\u001b[49m\u001b[43m,\u001b[49m\u001b[38;5;241;43m0.01\u001b[39;49m\u001b[43m,\u001b[49m\u001b[43mry\u001b[49m\u001b[38;5;241;43m.\u001b[39;49m\u001b[43mControlMode\u001b[49m\u001b[38;5;241;43m.\u001b[39;49m\u001b[43mposition\u001b[49m\u001b[43m)\u001b[49m\n\u001b[1;32m     34\u001b[0m     timer\u001b[38;5;241m+\u001b[39m\u001b[38;5;241m=\u001b[39m\u001b[38;5;241m0.01\u001b[39m\n\u001b[1;32m     35\u001b[0m     C\u001b[38;5;241m.\u001b[39mview()\n",
      "\u001b[0;31mKeyboardInterrupt\u001b[0m: "
     ]
    }
   ],
   "source": [
    "simulationFollowPath(S,path)"
   ]
  },
  {
   "cell_type": "code",
   "execution_count": 61,
   "metadata": {},
   "outputs": [
    {
     "name": "stdout",
     "output_type": "stream",
     "text": [
      "0\n",
      "0.009309726199340935\n",
      "1\n",
      "0.005205733868332579\n",
      "2\n",
      "0.004533703621360747\n",
      "3\n",
      "0.008867312622138742\n",
      "4\n",
      "0.014476316033049356\n",
      "5\n",
      "0.020497375651314483\n",
      "6\n",
      "0.026757752154317138\n",
      "7\n",
      "0.033189942395377856\n",
      "8\n",
      "0.03975459446030523\n",
      "9\n",
      "0.0464238509042759\n",
      "10\n",
      "0.05317544608960537\n",
      "11\n",
      "0.05999106341272729\n",
      "12\n",
      "0.06685506101661089\n",
      "13\n",
      "0.07375367743385128\n",
      "14\n",
      "0.08067487755429359\n",
      "15\n",
      "0.08760796040712639\n",
      "16\n",
      "0.0945434740629259\n",
      "17\n",
      "0.10147320533820216\n",
      "18\n",
      "0.10838946151054038\n",
      "19\n",
      "0.11528595786875709\n",
      "20\n",
      "0.12215605763888603\n",
      "21\n",
      "0.12899494585682142\n",
      "22\n",
      "0.13579776459776724\n",
      "23\n",
      "0.14255998489610153\n",
      "24\n",
      "0.14927794960787458\n",
      "25\n",
      "0.15594808256999979\n",
      "26\n",
      "0.16256722704749596\n",
      "27\n",
      "0.16913258161647618\n",
      "28\n",
      "0.17564156220344745\n",
      "29\n",
      "0.18209185377841364\n",
      "30\n",
      "0.18848177822894185\n",
      "31\n",
      "0.1948090489588439\n",
      "32\n",
      "0.2010720324796157\n",
      "33\n",
      "0.20726924422295095\n",
      "34\n",
      "0.21339939678645695\n",
      "35\n",
      "0.2194612354308522\n",
      "36\n",
      "0.22545351774046446\n",
      "37\n",
      "0.23137541924797222\n",
      "38\n",
      "0.23722595299407395\n",
      "39\n",
      "0.2430042442563602\n",
      "40\n",
      "0.24870978388737322\n",
      "41\n",
      "0.25434180361498004\n",
      "42\n",
      "0.25989951131549577\n",
      "43\n",
      "0.26538243008799045\n",
      "44\n",
      "0.2707901931765257\n",
      "45\n",
      "0.2761220777619281\n",
      "46\n",
      "0.28137795593473736\n",
      "47\n",
      "0.2865573311073045\n",
      "48\n",
      "0.291659947664248\n",
      "49\n",
      "0.2966855255621705\n",
      "50\n",
      "0.30163376392997227\n",
      "51\n",
      "0.30650444722506276\n",
      "52\n",
      "0.3112974853081975\n",
      "53\n",
      "0.31601279111719793\n",
      "54\n",
      "0.3206500294830515\n",
      "55\n",
      "0.32520941256347957\n",
      "56\n",
      "0.3296908169057619\n",
      "57\n",
      "0.3340941802900233\n",
      "58\n",
      "0.33841954355421355\n",
      "59\n",
      "0.3426669391497829\n",
      "60\n",
      "0.34683649566356484\n",
      "61\n",
      "0.35092814531806277\n",
      "62\n",
      "0.35494205959208874\n",
      "63\n",
      "0.3588780929510211\n",
      "64\n",
      "0.3627364992500276\n",
      "65\n",
      "0.36651745859008894\n",
      "66\n",
      "0.37022110464541846\n",
      "67\n",
      "0.3738478081459364\n",
      "68\n",
      "0.37739797577383116\n",
      "69\n",
      "0.38087203554023585\n",
      "70\n",
      "0.3842705472721506\n",
      "71\n",
      "0.3875945189114984\n",
      "72\n",
      "0.3908450898443638\n",
      "73\n",
      "0.3940235356499254\n",
      "74\n",
      "0.3971312174010252\n",
      "75\n",
      "0.40016932980398157\n",
      "76\n",
      "0.40313892328277834\n",
      "77\n",
      "0.4060409496042541\n",
      "78\n",
      "0.40887581723893696\n",
      "79\n",
      "0.41164358187680355\n",
      "80\n",
      "0.4143431441971421\n",
      "81\n",
      "0.416971706269327\n",
      "82\n",
      "0.4195250039107387\n",
      "83\n",
      "0.4219984207115198\n",
      "84\n",
      "0.42438698229566774\n",
      "85\n",
      "0.4266861293311621\n",
      "86\n",
      "0.42889160174178065\n",
      "87\n",
      "0.43099944309749505\n",
      "88\n",
      "0.43300592588891235\n",
      "89\n",
      "0.43490780499527265\n",
      "90\n",
      "0.4366857065688871\n",
      "91\n",
      "0.4392582861161418\n",
      "92\n",
      "0.4511492574785827\n",
      "93\n",
      "0.468436794124446\n",
      "94\n",
      "0.4850766286661574\n",
      "95\n",
      "0.5018744907995663\n",
      "96\n",
      "0.5173331990690155\n",
      "97\n",
      "0.5334467962905465\n",
      "98\n",
      "0.548513878383033\n",
      "99\n",
      "0.5635037467817514\n"
     ]
    },
    {
     "ename": "KeyboardInterrupt",
     "evalue": "",
     "output_type": "error",
     "traceback": [
      "\u001b[0;31m---------------------------------------------------------------------------\u001b[0m",
      "\u001b[0;31mKeyboardInterrupt\u001b[0m                         Traceback (most recent call last)",
      "Cell \u001b[0;32mIn[61], line 1\u001b[0m\n\u001b[0;32m----> 1\u001b[0m \u001b[43mfollowInterpolatedPath\u001b[49m\u001b[43m(\u001b[49m\u001b[43mS\u001b[49m\u001b[43m,\u001b[49m\u001b[43minterpolate_path\u001b[49m\u001b[43m(\u001b[49m\u001b[43mpath\u001b[49m\u001b[43m,\u001b[49m\u001b[38;5;241;43m100\u001b[39;49m\u001b[43m)\u001b[49m\u001b[43m)\u001b[49m\n",
      "Cell \u001b[0;32mIn[59], line 103\u001b[0m, in \u001b[0;36mfollowInterpolatedPath\u001b[0;34m(S, path)\u001b[0m\n\u001b[1;32m    101\u001b[0m         \u001b[38;5;28;01melse\u001b[39;00m:\n\u001b[1;32m    102\u001b[0m             checkColTime \u001b[38;5;241m+\u001b[39m\u001b[38;5;241m=\u001b[39m \u001b[38;5;241m0.05\u001b[39m\n\u001b[0;32m--> 103\u001b[0m \u001b[43msimulationGoTo\u001b[49m\u001b[43m(\u001b[49m\u001b[43mS\u001b[49m\u001b[43m,\u001b[49m\u001b[43mpath\u001b[49m\u001b[43m[\u001b[49m\u001b[38;5;241;43m-\u001b[39;49m\u001b[38;5;241;43m1\u001b[39;49m\u001b[43m]\u001b[49m\u001b[43m)\u001b[49m\n",
      "Cell \u001b[0;32mIn[59], line 32\u001b[0m, in \u001b[0;36msimulationGoTo\u001b[0;34m(S, q)\u001b[0m\n\u001b[1;32m     30\u001b[0m timer \u001b[38;5;241m=\u001b[39m \u001b[38;5;241m0\u001b[39m\n\u001b[1;32m     31\u001b[0m \u001b[38;5;28;01mwhile\u001b[39;00m np\u001b[38;5;241m.\u001b[39mlinalg\u001b[38;5;241m.\u001b[39mnorm(S\u001b[38;5;241m.\u001b[39mget_q()\u001b[38;5;241m-\u001b[39m q)\u001b[38;5;241m>\u001b[39m\u001b[38;5;241m0.01\u001b[39m:\n\u001b[0;32m---> 32\u001b[0m     \u001b[43mtime\u001b[49m\u001b[38;5;241;43m.\u001b[39;49m\u001b[43msleep\u001b[49m\u001b[43m(\u001b[49m\u001b[38;5;241;43m0.01\u001b[39;49m\u001b[43m)\u001b[49m\n\u001b[1;32m     33\u001b[0m     S\u001b[38;5;241m.\u001b[39mstep(q,\u001b[38;5;241m0.01\u001b[39m,ry\u001b[38;5;241m.\u001b[39mControlMode\u001b[38;5;241m.\u001b[39mposition)\n\u001b[1;32m     34\u001b[0m     timer\u001b[38;5;241m+\u001b[39m\u001b[38;5;241m=\u001b[39m\u001b[38;5;241m0.01\u001b[39m\n",
      "\u001b[0;31mKeyboardInterrupt\u001b[0m: "
     ]
    }
   ],
   "source": [
    "followInterpolatedPath(S,interpolate_path(path,100))"
   ]
  },
  {
   "cell_type": "code",
   "execution_count": null,
   "metadata": {},
   "outputs": [
    {
     "data": {
      "text/plain": [
       "[('r_palm', 'l_panda_coll7', -0.06210522440681772),\n",
       " ('r_palm', 'l_panda_coll6', -0.016374270533267385),\n",
       " ('r_palm', 'l_panda_coll5', -0.022997770849173593)]"
      ]
     },
     "execution_count": 41,
     "metadata": {},
     "output_type": "execute_result"
    }
   ],
   "source": []
  },
  {
   "cell_type": "code",
   "execution_count": 27,
   "metadata": {},
   "outputs": [
    {
     "name": "stdout",
     "output_type": "stream",
     "text": [
      "2\n",
      "0.11657275782287736\n",
      "2\n",
      "0.10786921056879652\n",
      "3\n",
      "0.21272915492611036\n",
      "3\n",
      "0.19531289859872877\n",
      "3\n",
      "0.17823127470824993\n",
      "3\n",
      "0.16235899097523557\n",
      "3\n",
      "0.14776785617751972\n",
      "3\n",
      "0.1343991833821205\n",
      "3\n",
      "0.12217375932442684\n",
      "3\n",
      "0.11101063870632835\n",
      "3\n",
      "0.10083122529685391\n",
      "4\n",
      "0.23362603192453074\n",
      "4\n",
      "0.21421236971672408\n",
      "4\n",
      "0.19524977963447365\n",
      "4\n",
      "0.17772650590275413\n",
      "4\n",
      "0.16168856091224362\n",
      "4\n",
      "0.14704312820583443\n",
      "4\n",
      "0.13368306771042704\n",
      "4\n",
      "0.12150544108690331\n",
      "4\n",
      "0.11041437619112618\n",
      "4\n",
      "0.10032078956259718\n",
      "5\n",
      "0.2566108406123308\n",
      "5\n",
      "0.23529267504119641\n",
      "5\n",
      "0.2144647365721481\n",
      "5\n",
      "0.19526016218507322\n",
      "5\n",
      "0.1777076222741552\n",
      "5\n",
      "0.16169039310030847\n",
      "5\n",
      "0.14708120268107397\n",
      "5\n",
      "0.13376161865983915\n",
      "5\n",
      "0.12162394693580289\n",
      "5\n",
      "0.11056974833921882\n",
      "5\n",
      "0.10050906359203783\n",
      "6\n",
      "0.27575194953371446\n",
      "6\n",
      "0.2528812767491276\n",
      "6\n",
      "0.2305205322087986\n",
      "6\n",
      "0.20992565391768242\n",
      "6\n",
      "0.191110544397937\n",
      "6\n",
      "0.17394271030496142\n",
      "6\n",
      "0.15828160120314483\n",
      "6\n",
      "0.1439975968323829\n",
      "6\n",
      "0.13097395983465704\n",
      "6\n",
      "0.11910491729573505\n",
      "6\n",
      "0.10829457222801833\n",
      "7\n",
      "0.297844638080464\n",
      "7\n",
      "0.27320624989866393\n",
      "7\n",
      "0.24911895450001983\n",
      "7\n",
      "0.22692594760969606\n",
      "7\n",
      "0.2066311769742159\n",
      "7\n",
      "0.18809649619646027\n",
      "7\n",
      "0.17117661993637667\n",
      "7\n",
      "0.15573617887828725\n",
      "7\n",
      "0.1416514835613616\n",
      "7\n",
      "0.1288100757630332\n",
      "7\n",
      "0.11710946547581957\n",
      "7\n",
      "0.10645737897431248\n",
      "8\n",
      "0.3078269695677733\n",
      "8\n",
      "0.28260885841072036\n",
      "8\n",
      "0.25787312586714944\n",
      "8\n",
      "0.23501166394693573\n",
      "8\n",
      "0.21403757326051565\n",
      "8\n",
      "0.1948335009367822\n",
      "8\n",
      "0.17727188681432304\n",
      "8\n",
      "0.16122893513953626\n",
      "8\n",
      "0.14658753839539815\n",
      "8\n",
      "0.13323781472977725\n",
      "8\n",
      "0.1210775683857114\n",
      "8\n",
      "0.11001257536699784\n",
      "9\n",
      "0.32017117780784216\n",
      "9\n",
      "0.2943908449775764\n",
      "9\n",
      "0.2689888838815689\n",
      "9\n",
      "0.24535827107141836\n",
      "9\n",
      "0.22354221218996548\n",
      "9\n",
      "0.2034689963898768\n",
      "9\n",
      "0.18504798424081326\n",
      "9\n",
      "0.16818213479831515\n",
      "9\n",
      "0.15277182200253883\n",
      "9\n",
      "0.1387173428373215\n",
      "9\n",
      "0.12592088191445966\n",
      "9\n",
      "0.11428813311234022\n",
      "9\n",
      "0.10372937959303552\n",
      "10\n",
      "0.3219657149841154\n",
      "10\n",
      "0.29693981764169236\n",
      "10\n",
      "0.2719882027197311\n",
      "10\n",
      "0.24850025372161974\n",
      "10\n",
      "0.22659177616644793\n",
      "10\n",
      "0.20627063359701162\n",
      "10\n",
      "0.18751154881338541\n",
      "10\n",
      "0.17026695950795437\n",
      "10\n",
      "0.15447278306505324\n",
      "10\n",
      "0.14005330166707533\n",
      "10\n",
      "0.126936238703033\n",
      "10\n",
      "0.1150963955539849\n",
      "10\n",
      "0.104423140615581\n"
     ]
    }
   ],
   "source": [
    "simulationFollowPath(S,path)"
   ]
  },
  {
   "cell_type": "code",
   "execution_count": 143,
   "metadata": {},
   "outputs": [
    {
     "name": "stdout",
     "output_type": "stream",
     "text": [
      "-- kin_physx.cpp:removeJoint:891(0) REMOVING JOINT 0x409cc00-0x5bb68f0 of type rigid\n",
      "-- kin_physx.cpp:removeJoint:891(0) REMOVING JOINT 0x6a57db0-0x55d93a0 of type rigid\n"
     ]
    }
   ],
   "source": [
    "simulationOpenGrippers(S)"
   ]
  },
  {
   "cell_type": "code",
   "execution_count": 80,
   "metadata": {},
   "outputs": [
    {
     "data": {
      "text/plain": [
       "array([-6.13900565e-07, -8.73796530e-07,  5.14596067e-07, -4.36949859e-06,\n",
       "       -5.54146634e-07, -4.80173561e-06, -3.04716573e-07, -3.67919279e-07,\n",
       "        3.07995846e-07, -5.44952290e-07, -1.19858613e-06, -2.90774028e-07,\n",
       "       -7.18512246e-07, -4.09328445e-08])"
      ]
     },
     "execution_count": 80,
     "metadata": {},
     "output_type": "execute_result"
    }
   ],
   "source": [
    "S.get_q()-path[5]"
   ]
  },
  {
   "cell_type": "code",
   "execution_count": 65,
   "metadata": {},
   "outputs": [
    {
     "data": {
      "text/plain": [
       "37"
      ]
     },
     "execution_count": 65,
     "metadata": {},
     "output_type": "execute_result"
    }
   ],
   "source": [
    "C.setJointState(q0)\n",
    "C.view()"
   ]
  },
  {
   "cell_type": "code",
   "execution_count": 43,
   "metadata": {},
   "outputs": [
    {
     "data": {
      "text/plain": [
       "37"
      ]
     },
     "execution_count": 43,
     "metadata": {},
     "output_type": "execute_result"
    }
   ],
   "source": [
    "C.setJointState(path[3])\n",
    "C.view()"
   ]
  },
  {
   "cell_type": "code",
   "execution_count": 41,
   "metadata": {},
   "outputs": [
    {
     "data": {
      "text/plain": [
       "37"
      ]
     },
     "execution_count": 41,
     "metadata": {},
     "output_type": "execute_result"
    }
   ],
   "source": [
    "C.setJointState(q_weird)\n",
    "C.view()"
   ]
  },
  {
   "cell_type": "code",
   "execution_count": null,
   "metadata": {},
   "outputs": [],
   "source": []
  },
  {
   "cell_type": "code",
   "execution_count": 22,
   "metadata": {},
   "outputs": [],
   "source": [
    "simulationGoHome(S)"
   ]
  },
  {
   "cell_type": "code",
   "execution_count": 166,
   "metadata": {},
   "outputs": [],
   "source": [
    "simulationFollowPath(S,path)"
   ]
  },
  {
   "cell_type": "code",
   "execution_count": 113,
   "metadata": {},
   "outputs": [
    {
     "name": "stdout",
     "output_type": "stream",
     "text": [
      "STACK9 /home/said/robotics/bin/python() [0x42f078]\n",
      "STACK8 /home/said/robotics/bin/python() [0x515ce9]\n",
      "STACK7 /home/said/robotics/bin/python() [0x52c539]\n",
      "STACK6 /home/said/robotics/bin/python(_PyObject_MakeTpCall\n",
      "STACK5 /home/said/robotics/bin/python() [0x52e36b]\n",
      "STACK4 /home/said/.local/lib/python3.9/site-packages/robotic/_robotic.so(+0x3a6b5) [0x73a53cd436b5]\n",
      "STACK3 /home/said/.local/lib/python3.9/site-packages/robotic/_robotic.so(+0xa1f24) [0x73a53cdaaf24]\n",
      "STACK2 rai::Simulation::setState(rai::ArrayDouble const&, rai::ArrayDouble const&, rai::ArrayDouble const&, rai::ArrayDouble const&)\n",
      "STACK1 rai::Configuration::setFrameState(rai::ArrayDouble const&, rai::Array<rai::Frame*> const&)\n",
      "STACK0 rai::LogToken::~LogToken()\n"
     ]
    },
    {
     "name": "stderr",
     "output_type": "stream",
     "text": [
      "== ERROR:kin.cpp:setFrameState:714(-2) CHECK_GE failed: 'X.d0'=129 'F.N'=132 -- X.d0=129 not equal to frames.N=132\n"
     ]
    },
    {
     "ename": "RuntimeError",
     "evalue": "kin.cpp:setFrameState:714(-2) CHECK_GE failed: 'X.d0'=129 'F.N'=132 -- X.d0=129 not equal to frames.N=132",
     "output_type": "error",
     "traceback": [
      "\u001b[0;31m---------------------------------------------------------------------------\u001b[0m",
      "\u001b[0;31mRuntimeError\u001b[0m                              Traceback (most recent call last)",
      "Cell \u001b[0;32mIn[113], line 1\u001b[0m\n\u001b[0;32m----> 1\u001b[0m \u001b[43mS\u001b[49m\u001b[38;5;241;43m.\u001b[39;49m\u001b[43msetState\u001b[49m\u001b[43m(\u001b[49m\u001b[43mX0\u001b[49m\u001b[43m)\u001b[49m\n",
      "\u001b[0;31mRuntimeError\u001b[0m: kin.cpp:setFrameState:714(-2) CHECK_GE failed: 'X.d0'=129 'F.N'=132 -- X.d0=129 not equal to frames.N=132"
     ]
    }
   ],
   "source": [
    "S.setState(X0)"
   ]
  },
  {
   "cell_type": "code",
   "execution_count": 14,
   "metadata": {},
   "outputs": [],
   "source": [
    "def move_a_bit(path):\n",
    "    tau = .01\n",
    "    pathx = []\n",
    "    pathI = interpolate_path(path[1:,:],100)\n",
    "    for i in range(len(pathI)):\n",
    "        q = pathI[i]\n",
    "        S.step(q, tau,  ry.ControlMode.position)\n",
    "        print(S.getTimeToMove())\n",
    "    print(len(pathx))"
   ]
  },
  {
   "cell_type": "code",
   "execution_count": null,
   "metadata": {},
   "outputs": [],
   "source": [
    "tau = .003\n",
    "pathI = interpolate_path(path[1:,:],100)\n",
    "bot.moveTo(path[1])\n",
    "for i in range(len(pathI)):\n",
    "    bot.moveTo(pathI[i],timeCost=100)"
   ]
  },
  {
   "cell_type": "code",
   "execution_count": 37,
   "metadata": {},
   "outputs": [
    {
     "data": {
      "text/plain": [
       "11"
      ]
     },
     "execution_count": 37,
     "metadata": {},
     "output_type": "execute_result"
    }
   ],
   "source": [
    "len(path)"
   ]
  },
  {
   "cell_type": "code",
   "execution_count": 17,
   "metadata": {},
   "outputs": [
    {
     "ename": "NameError",
     "evalue": "name 'path' is not defined",
     "output_type": "error",
     "traceback": [
      "\u001b[0;31m---------------------------------------------------------------------------\u001b[0m",
      "\u001b[0;31mNameError\u001b[0m                                 Traceback (most recent call last)",
      "Cell \u001b[0;32mIn[17], line 2\u001b[0m\n\u001b[1;32m      1\u001b[0m S \u001b[38;5;241m=\u001b[39m ry\u001b[38;5;241m.\u001b[39mSimulation(C, ry\u001b[38;5;241m.\u001b[39mSimulationEngine\u001b[38;5;241m.\u001b[39mphysx, verbose\u001b[38;5;241m=\u001b[39m\u001b[38;5;241m0\u001b[39m)\n\u001b[0;32m----> 2\u001b[0m move_a_bit(\u001b[43mpath\u001b[49m)\n",
      "\u001b[0;31mNameError\u001b[0m: name 'path' is not defined"
     ]
    }
   ],
   "source": [
    "S = ry.Simulation(C, ry.SimulationEngine.physx, verbose=0)\n",
    "move_a_bit(path)"
   ]
  },
  {
   "cell_type": "code",
   "execution_count": 148,
   "metadata": {},
   "outputs": [],
   "source": [
    "del bot"
   ]
  },
  {
   "cell_type": "code",
   "execution_count": 113,
   "metadata": {},
   "outputs": [
    {
     "data": {
      "text/plain": [
       "21"
      ]
     },
     "execution_count": 113,
     "metadata": {},
     "output_type": "execute_result"
    }
   ],
   "source": [
    "len(path)"
   ]
  },
  {
   "cell_type": "code",
   "execution_count": null,
   "metadata": {},
   "outputs": [],
   "source": [
    "% Frequency and Gain Data\n",
    "freq_kHz = [30, 60, 120, 240, 300, 360, 600, 1200, ...\n",
    "            2800, 5600, 7000, 8400, 14000, 28000, 56000]; % in kHz\n",
    "gain_dB = [-0.1, -0.2, -0.2, -2.85, -3.45, -4.5, -7.13, -12.4, ...\n",
    "           -18, -22, -22.5, -24.5, -25, -25, -25]; % in dB\n",
    "\n",
    "% Convert frequency to Hz for semilog plot\n",
    "freq_Hz = freq_kHz * 1e3;\n",
    "\n",
    "% Plot the data\n",
    "figure;\n",
    "semilogx(freq_Hz, gain_dB, '-o', 'LineWidth', 1.5, 'MarkerSize', 6);\n",
    "grid on;\n",
    "title('Frequency Response (dB Gain)');\n",
    "xlabel('Frequency (Hz)');\n",
    "ylabel('Gain (dB)');\n",
    "xlim([1e4, 1e8]); % Adjust based on the frequency range\n",
    "ylim([-30, 0]); % Adjust based on the dB range"
   ]
  }
 ],
 "metadata": {
  "kernelspec": {
   "display_name": "robotics",
   "language": "python",
   "name": "python3"
  },
  "language_info": {
   "codemirror_mode": {
    "name": "ipython",
    "version": 3
   },
   "file_extension": ".py",
   "mimetype": "text/x-python",
   "name": "python",
   "nbconvert_exporter": "python",
   "pygments_lexer": "ipython3",
   "version": "3.9.20"
  }
 },
 "nbformat": 4,
 "nbformat_minor": 2
}
